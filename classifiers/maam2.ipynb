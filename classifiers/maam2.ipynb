{
 "cells": [
  {
   "cell_type": "code",
   "execution_count": 12,
   "metadata": {},
   "outputs": [],
   "source": [
    "import os\n",
    "import cv2\n",
    "import numpy as np\n",
    "\n",
    "contentPath = os.listdir(f\"{os.getcwd()}/../assets/image/Digitos-Imagen-pequena/\")\n",
    "paths = list(\n",
    "    map(lambda item: f\"../assets/image/Digitos-Imagen-pequena/{item}\", contentPath))\n",
    "\n",
    "images = []\n",
    "\n",
    "for path in paths:\n",
    "    images.append(cv2.imread(path, 0))"
   ]
  },
  {
   "cell_type": "code",
   "execution_count": 17,
   "metadata": {},
   "outputs": [],
   "source": [
    "X_train = []\n",
    "for image in images:\n",
    "    # _, img = cv2.threshold(image, 160, 255, cv2.THRESH_BINARY)\n",
    "    img = np.array(image).flatten()\n",
    "    # img = img / 255\n",
    "    X_train.append(img)"
   ]
  },
  {
   "cell_type": "code",
   "execution_count": 18,
   "metadata": {},
   "outputs": [
    {
     "name": "stderr",
     "output_type": "stream",
     "text": [
      "/tmp/ipykernel_3371/4277945395.py:8: RuntimeWarning: overflow encountered in scalar subtract\n",
      "  aux.append(i - j)\n"
     ]
    }
   ],
   "source": [
    "matrix = []\n",
    "\n",
    "for list_x, list_y in zip(X_train, X_train):\n",
    "    matrix_aux = []\n",
    "    for i in list_y:\n",
    "        aux = []\n",
    "        for j in list_x:\n",
    "            aux.append(i - j)\n",
    "        matrix_aux.append(aux)\n",
    "    matrix.append(matrix_aux)\n",
    "\n",
    "\n",
    "memory = []\n",
    "\n",
    "for sublistas in zip(*matrix):\n",
    "    for filas in zip(*sublistas):\n",
    "        memory.append(\n",
    "            max(filas))\n",
    "        \n",
    "memory = np.array(memory, dtype=np.int32)\n",
    "memory = memory.reshape(2500, 2500)"
   ]
  },
  {
   "cell_type": "code",
   "execution_count": 23,
   "metadata": {},
   "outputs": [],
   "source": [
    "image = cv2.imread(\"../assets/image/Ruido/ruido_sus/imagesus1.bmp\", 0)\n",
    "# _, img = cv2.threshold(image, 160, 255, cv2.THRESH_BINARY)\n",
    "img = np.array(image).flatten()\n",
    "# img = img / 255\n",
    "\n",
    "result = []\n",
    "\n",
    "for fila in memory:\n",
    "    aux = []\n",
    "    for pos in range(len(img)):\n",
    "        aux.append(fila[pos]+img[pos])\n",
    "    result.append(min(aux))\n",
    "\n",
    "result = np.array(result, dtype=np.int32)\n",
    "result = cv2.convertScaleAbs(result, alpha=1, beta=0)\n",
    "result = result.reshape(50, 50)\n",
    "cv2.imshow(\"result\", result)\n",
    "cv2.waitKey()\n",
    "cv2.destroyAllWindows()"
   ]
  }
 ],
 "metadata": {
  "kernelspec": {
   "display_name": "Python 3",
   "language": "python",
   "name": "python3"
  },
  "language_info": {
   "codemirror_mode": {
    "name": "ipython",
    "version": 3
   },
   "file_extension": ".py",
   "mimetype": "text/x-python",
   "name": "python",
   "nbconvert_exporter": "python",
   "pygments_lexer": "ipython3",
   "version": "3.9.2"
  },
  "orig_nbformat": 4,
  "vscode": {
   "interpreter": {
    "hash": "e7370f93d1d0cde622a1f8e1c04877d8463912d04d973331ad4851f04de6915a"
   }
  }
 },
 "nbformat": 4,
 "nbformat_minor": 2
}
