{
 "cells": [
  {
   "attachments": {},
   "cell_type": "markdown",
   "metadata": {},
   "source": [
    "## Inicio y captura de las imágenes\n",
    "\n",
    "### Dada una ruta (path) se recuperan las imágenes de esa ruta con opencv y se guardan en una lista para su posterior uso"
   ]
  },
  {
   "cell_type": "code",
   "execution_count": 2,
   "metadata": {},
   "outputs": [
    {
     "name": "stdout",
     "output_type": "stream",
     "text": [
      "['../assets/image/Digitos-Imagen-pequena/cero.bmp', '../assets/image/Digitos-Imagen-pequena/dos.bmp', '../assets/image/Digitos-Imagen-pequena/siete.bmp', '../assets/image/Digitos-Imagen-pequena/cuatro.bmp', '../assets/image/Digitos-Imagen-pequena/ocho.bmp', '../assets/image/Digitos-Imagen-pequena/tres.bmp', '../assets/image/Digitos-Imagen-pequena/seis.bmp', '../assets/image/Digitos-Imagen-pequena/cinco.bmp', '../assets/image/Digitos-Imagen-pequena/uno.bmp', '../assets/image/Digitos-Imagen-pequena/nueve.bmp']\n"
     ]
    }
   ],
   "source": [
    "import os\n",
    "import cv2\n",
    "import numpy as np\n",
    "import imutils\n",
    "\n",
    "path = \"../assets/image/Digitos-Imagen-pequena/\"\n",
    "contentPath = os.listdir(f\"{os.getcwd()}/{path}\")\n",
    "paths = list(\n",
    "    map(lambda item: f\"{path}{item}\", contentPath))\n",
    "\n",
    "print(paths)\n",
    "images = []\n",
    "\n",
    "for path in paths:\n",
    "    images.append(cv2.imread(path, 0))"
   ]
  },
  {
   "attachments": {},
   "cell_type": "markdown",
   "metadata": {},
   "source": [
    "## BINARIZACIÓN\n",
    "\n",
    "### En una lista guardamos las imágenes binarizadas\n",
    "\n",
    "#### Primero se aplica un umbral de 160, es decir, valores menores a 160 tomarán el valor de 0 y valores mayores a 160 tomarán el valor de 255\n",
    "#### Una vez aplicado el umbral a la imagen se aplana la matriz de datos y cada dato lo dividimos entre 255  para tener valores 0 y 1"
   ]
  },
  {
   "cell_type": "code",
   "execution_count": 3,
   "metadata": {},
   "outputs": [],
   "source": [
    "X_train = []\n",
    "for image in images:\n",
    "    _, img = cv2.threshold(image, 160, 255, cv2.THRESH_BINARY)\n",
    "    img = np.array(img).flatten()\n",
    "    img = img / 255\n",
    "    X_train.append(img)"
   ]
  },
  {
   "attachments": {},
   "cell_type": "markdown",
   "metadata": {},
   "source": [
    "## ENTRENAMIENTO\n",
    "\n",
    "### El primer bloque de ciclos for corresponde a la primer fase del entrenamiento de la memoria asociativa, en el cual creamos y almacenamos las matrices correspondientes a cada elemento, en nuestro caso son 10 imágenes (dígitos del 0 al 9)\n",
    "\n",
    "### En el segundo bloque de ciclos for se crea la memoria aplicando el operador max.\n",
    "\n",
    "NOTA: Para mayor información sobre el proceso de entrenamiento consultar los documentos proporcionados por la profesora."
   ]
  },
  {
   "cell_type": "code",
   "execution_count": 8,
   "metadata": {},
   "outputs": [],
   "source": [
    "matrix = []\n",
    "\n",
    "for list_x, list_y in zip(X_train, X_train):\n",
    "    matrix_aux = []\n",
    "    for i in list_y:\n",
    "        aux = []\n",
    "        for j in list_x:\n",
    "            aux.append(i - j)\n",
    "        matrix_aux.append(aux)\n",
    "    matrix.append(matrix_aux)\n",
    "\n",
    "\n",
    "memory = []\n",
    "\n",
    "for sublists in zip(*matrix):\n",
    "    for rows in zip(*sublists):\n",
    "        memory.append(\n",
    "            max(rows))\n",
    "\n",
    "memory = np.array(memory)\n",
    "memory = memory.reshape(2500, 2500)"
   ]
  },
  {
   "attachments": {},
   "cell_type": "markdown",
   "metadata": {},
   "source": [
    "### Para probar que realmente funciona la memoria asociativa morfológica asociativa probamos con las imágenes a las que se les aplicó el ruido aditivo (1%, 25%, 50%, 90% y 99%)\n",
    "\n",
    "### Se le realiza el mismo proceso de umbralización y binarización para trabajar con los mismos valores con los que se entrenó la memoria (0's y 1's)\n",
    "\n",
    "### Para mostrar la imagen convertimos la lista a un array de numpy y le aplicamos un reshape de 50x50 que son las dimensiones en que se mostrará la imagen"
   ]
  },
  {
   "cell_type": "code",
   "execution_count": 11,
   "metadata": {},
   "outputs": [],
   "source": [
    "image = cv2.imread(\"../assets/image/Ruido/ruido_sus/imagesus90.bmp\", 0)\n",
    "_, img = cv2.threshold(image, 160, 255, cv2.THRESH_BINARY)\n",
    "img = np.array(img).flatten()\n",
    "img = img / 255\n",
    "\n",
    "result = []\n",
    "\n",
    "for fila in memory:\n",
    "    aux = []\n",
    "    for pos in range(len(img)):\n",
    "        aux.append(fila[pos]+img[pos])\n",
    "    result.append(min(aux))\n",
    "\n",
    "result = np.array(result)\n",
    "# result = cv2.convertScaleAbs(result, alpha=1, beta=0)\n",
    "result = result.reshape(50, 50)\n",
    "result = result * 255 # esto se hace solo para que al guardar la imagen se guarde bien\n",
    "# result = imutils.resize(result, width=180)\n",
    "cv2.imshow(\"result\", result)\n",
    "cv2.waitKey()\n",
    "cv2.destroyAllWindows()\n",
    "# cv2.imwrite(\"imagead99.png\", result)\n"
   ]
  }
 ],
 "metadata": {
  "kernelspec": {
   "display_name": "Python 3",
   "language": "python",
   "name": "python3"
  },
  "language_info": {
   "codemirror_mode": {
    "name": "ipython",
    "version": 3
   },
   "file_extension": ".py",
   "mimetype": "text/x-python",
   "name": "python",
   "nbconvert_exporter": "python",
   "pygments_lexer": "ipython3",
   "version": "3.10.6"
  },
  "orig_nbformat": 4,
  "vscode": {
   "interpreter": {
    "hash": "916dbcbb3f70747c44a77c7bcd40155683ae19c65e1c03b4aa3499c5328201f1"
   }
  }
 },
 "nbformat": 4,
 "nbformat_minor": 2
}
